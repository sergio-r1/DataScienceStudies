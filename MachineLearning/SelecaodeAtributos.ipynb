{
 "cells": [
  {
   "attachments": {},
   "cell_type": "markdown",
   "metadata": {},
   "source": [
    "# Seleção de Atributos"
   ]
  },
  {
   "cell_type": "code",
   "execution_count": 61,
   "metadata": {},
   "outputs": [],
   "source": [
    "import pandas as pd\n",
    "from sklearn.model_selection import train_test_split\n",
    "from sklearn.preprocessing import LabelEncoder\n",
    "from sklearn.metrics import confusion_matrix, accuracy_score\n",
    "from sklearn.svm import SVC\n",
    "from sklearn.ensemble import ExtraTreesClassifier"
   ]
  },
  {
   "cell_type": "code",
   "execution_count": 62,
   "metadata": {},
   "outputs": [],
   "source": [
    "df = pd.read_csv('../Dados/Credit.csv')"
   ]
  },
  {
   "cell_type": "code",
   "execution_count": 63,
   "metadata": {},
   "outputs": [],
   "source": [
    "previsores = df.iloc[:,0:20].values\n",
    "classe = df.iloc[:,20].values"
   ]
  },
  {
   "cell_type": "code",
   "execution_count": 64,
   "metadata": {},
   "outputs": [
    {
     "data": {
      "text/plain": [
       "array(['<0', '0<=X<200', \"'no checking'\", '<0', '<0', \"'no checking'\",\n",
       "       \"'no checking'\", '0<=X<200', \"'no checking'\", '0<=X<200',\n",
       "       '0<=X<200', '<0', '0<=X<200', '<0', '<0', '<0', \"'no checking'\",\n",
       "       '<0', '0<=X<200', \"'no checking'\", \"'no checking'\", '<0', '<0',\n",
       "       '0<=X<200', \"'no checking'\", '<0', \"'no checking'\", '>=200',\n",
       "       '0<=X<200', '<0', '0<=X<200', '<0', '0<=X<200', \"'no checking'\",\n",
       "       '>=200', '0<=X<200', \"'no checking'\", '>=200', '>=200', '0<=X<200',\n",
       "       \"'no checking'\", '0<=X<200', '0<=X<200', '<0', '<0',\n",
       "       \"'no checking'\", \"'no checking'\", '<0', \"'no checking'\",\n",
       "       \"'no checking'\", '0<=X<200', '0<=X<200', \"'no checking'\",\n",
       "       \"'no checking'\", '0<=X<200', \"'no checking'\", '0<=X<200',\n",
       "       \"'no checking'\", '>=200', '<0', '0<=X<200', '0<=X<200', '0<=X<200',\n",
       "       '0<=X<200', \"'no checking'\", \"'no checking'\", \"'no checking'\",\n",
       "       '0<=X<200', \"'no checking'\", \"'no checking'\", \"'no checking'\",\n",
       "       \"'no checking'\", '<0', '0<=X<200', '<0', '<0', '<0', '0<=X<200',\n",
       "       \"'no checking'\", '0<=X<200', \"'no checking'\", \"'no checking'\",\n",
       "       \"'no checking'\", '<0', '<0', \"'no checking'\", '0<=X<200',\n",
       "       '0<=X<200', '<0', '<0', \"'no checking'\", '<0', \"'no checking'\",\n",
       "       '>=200', '0<=X<200', '0<=X<200', \"'no checking'\", '0<=X<200',\n",
       "       '0<=X<200', '0<=X<200', \"'no checking'\", '0<=X<200',\n",
       "       \"'no checking'\", '0<=X<200', \"'no checking'\", '0<=X<200',\n",
       "       \"'no checking'\", '0<=X<200', '<0', '0<=X<200', '0<=X<200', '>=200',\n",
       "       '0<=X<200', \"'no checking'\", '<0', \"'no checking'\", '<0', '<0',\n",
       "       '<0', '0<=X<200', '<0', \"'no checking'\", \"'no checking'\", '>=200',\n",
       "       '0<=X<200', '<0', '<0', '0<=X<200', '0<=X<200', '<0', '0<=X<200',\n",
       "       '<0', \"'no checking'\", \"'no checking'\", \"'no checking'\",\n",
       "       \"'no checking'\", \"'no checking'\", '0<=X<200', '0<=X<200', '>=200',\n",
       "       '>=200', '0<=X<200', '<0', '<0', \"'no checking'\", '0<=X<200', '<0',\n",
       "       \"'no checking'\", '<0', \"'no checking'\", \"'no checking'\",\n",
       "       \"'no checking'\", '>=200', '0<=X<200', '0<=X<200', '<0', '<0', '<0',\n",
       "       '0<=X<200', \"'no checking'\", \"'no checking'\", \"'no checking'\",\n",
       "       \"'no checking'\", '0<=X<200', \"'no checking'\", \"'no checking'\",\n",
       "       '<0', '0<=X<200', \"'no checking'\", '0<=X<200', '<0',\n",
       "       \"'no checking'\", '0<=X<200', '0<=X<200', '<0', \"'no checking'\",\n",
       "       '<0', '<0', \"'no checking'\", '<0', \"'no checking'\", '0<=X<200',\n",
       "       '<0', \"'no checking'\", '0<=X<200', \"'no checking'\", '0<=X<200',\n",
       "       '0<=X<200', '<0', '0<=X<200', \"'no checking'\", '0<=X<200',\n",
       "       '0<=X<200', \"'no checking'\", '0<=X<200', '0<=X<200',\n",
       "       \"'no checking'\", '0<=X<200', '0<=X<200', '0<=X<200',\n",
       "       \"'no checking'\", '<0', \"'no checking'\", '<0', \"'no checking'\",\n",
       "       '<0', \"'no checking'\", '0<=X<200', '<0', \"'no checking'\",\n",
       "       \"'no checking'\", \"'no checking'\", '<0', '>=200', \"'no checking'\",\n",
       "       '0<=X<200', '<0', '>=200', '<0', \"'no checking'\", '0<=X<200', '<0',\n",
       "       \"'no checking'\", \"'no checking'\", \"'no checking'\", \"'no checking'\",\n",
       "       '0<=X<200', '<0', \"'no checking'\", '<0', '>=200', \"'no checking'\",\n",
       "       \"'no checking'\", '0<=X<200', \"'no checking'\", '<0', '0<=X<200',\n",
       "       '0<=X<200', \"'no checking'\", '<0', '<0', \"'no checking'\", '<0',\n",
       "       \"'no checking'\", \"'no checking'\", \"'no checking'\", \"'no checking'\",\n",
       "       \"'no checking'\", '>=200', \"'no checking'\", '<0', '>=200',\n",
       "       '0<=X<200', \"'no checking'\", '0<=X<200', '0<=X<200',\n",
       "       \"'no checking'\", '<0', \"'no checking'\", \"'no checking'\", '<0',\n",
       "       '<0', '<0', \"'no checking'\", \"'no checking'\", '0<=X<200',\n",
       "       \"'no checking'\", \"'no checking'\", '<0', \"'no checking'\",\n",
       "       \"'no checking'\", \"'no checking'\", '0<=X<200', '0<=X<200', '<0',\n",
       "       \"'no checking'\", \"'no checking'\", '<0', \"'no checking'\",\n",
       "       \"'no checking'\", \"'no checking'\", \"'no checking'\", '>=200',\n",
       "       \"'no checking'\", '0<=X<200', '<0', '<0', '0<=X<200', '0<=X<200',\n",
       "       '<0', \"'no checking'\", '0<=X<200', '<0', '>=200', \"'no checking'\",\n",
       "       '0<=X<200', \"'no checking'\", \"'no checking'\", \"'no checking'\",\n",
       "       '0<=X<200', \"'no checking'\", '0<=X<200', '>=200', '<0',\n",
       "       \"'no checking'\", \"'no checking'\", \"'no checking'\", '<0',\n",
       "       '0<=X<200', '0<=X<200', '0<=X<200', \"'no checking'\", '>=200',\n",
       "       '0<=X<200', '>=200', '<0', '<0', '0<=X<200', \"'no checking'\", '<0',\n",
       "       '0<=X<200', '<0', '<0', '<0', \"'no checking'\", '<0',\n",
       "       \"'no checking'\", \"'no checking'\", '>=200', '0<=X<200', '<0',\n",
       "       \"'no checking'\", '0<=X<200', \"'no checking'\", '<0', '<0',\n",
       "       '0<=X<200', '<0', '<0', '0<=X<200', '0<=X<200', '<0', '0<=X<200',\n",
       "       '0<=X<200', '>=200', \"'no checking'\", '0<=X<200', '0<=X<200',\n",
       "       \"'no checking'\", '0<=X<200', \"'no checking'\", '0<=X<200',\n",
       "       \"'no checking'\", '<0', \"'no checking'\", '0<=X<200',\n",
       "       \"'no checking'\", \"'no checking'\", \"'no checking'\", '<0',\n",
       "       '0<=X<200', '>=200', '>=200', \"'no checking'\", '<0',\n",
       "       \"'no checking'\", \"'no checking'\", '<0', '<0', '0<=X<200',\n",
       "       \"'no checking'\", \"'no checking'\", \"'no checking'\", \"'no checking'\",\n",
       "       '0<=X<200', '<0', \"'no checking'\", \"'no checking'\", '0<=X<200',\n",
       "       \"'no checking'\", '<0', '0<=X<200', \"'no checking'\", '>=200',\n",
       "       \"'no checking'\", \"'no checking'\", \"'no checking'\", '0<=X<200',\n",
       "       '0<=X<200', \"'no checking'\", \"'no checking'\", '0<=X<200', '<0',\n",
       "       '<0', \"'no checking'\", '0<=X<200', '<0', '<0', '0<=X<200',\n",
       "       \"'no checking'\", \"'no checking'\", '0<=X<200', \"'no checking'\",\n",
       "       \"'no checking'\", '0<=X<200', '0<=X<200', \"'no checking'\", '<0',\n",
       "       \"'no checking'\", '>=200', '0<=X<200', \"'no checking'\",\n",
       "       \"'no checking'\", \"'no checking'\", '<0', \"'no checking'\", '<0',\n",
       "       '<0', \"'no checking'\", '0<=X<200', \"'no checking'\", '0<=X<200',\n",
       "       '0<=X<200', \"'no checking'\", '0<=X<200', '0<=X<200',\n",
       "       \"'no checking'\", \"'no checking'\", \"'no checking'\", '<0',\n",
       "       \"'no checking'\", '0<=X<200', '<0', \"'no checking'\", '<0',\n",
       "       '0<=X<200', \"'no checking'\", \"'no checking'\", '<0', '>=200',\n",
       "       \"'no checking'\", '<0', '0<=X<200', \"'no checking'\", '0<=X<200',\n",
       "       \"'no checking'\", '<0', '0<=X<200', '>=200', '0<=X<200',\n",
       "       \"'no checking'\", \"'no checking'\", \"'no checking'\", \"'no checking'\",\n",
       "       '<0', \"'no checking'\", '<0', '<0', '<0', \"'no checking'\", '<0',\n",
       "       '<0', '0<=X<200', '0<=X<200', \"'no checking'\", '<0', '<0',\n",
       "       \"'no checking'\", \"'no checking'\", \"'no checking'\", '0<=X<200',\n",
       "       '<0', '<0', \"'no checking'\", '0<=X<200', '<0', \"'no checking'\",\n",
       "       '>=200', '0<=X<200', '<0', '0<=X<200', '0<=X<200', '<0',\n",
       "       \"'no checking'\", \"'no checking'\", '0<=X<200', \"'no checking'\",\n",
       "       \"'no checking'\", \"'no checking'\", \"'no checking'\", \"'no checking'\",\n",
       "       '0<=X<200', \"'no checking'\", '0<=X<200', '<0', '<0', '0<=X<200',\n",
       "       \"'no checking'\", '0<=X<200', '>=200', '<0', '<0', '>=200',\n",
       "       '0<=X<200', '<0', \"'no checking'\", '>=200', '0<=X<200',\n",
       "       \"'no checking'\", \"'no checking'\", '<0', \"'no checking'\", '>=200',\n",
       "       '0<=X<200', \"'no checking'\", '<0', '<0', \"'no checking'\", '<0',\n",
       "       \"'no checking'\", \"'no checking'\", '<0', '<0', \"'no checking'\",\n",
       "       '0<=X<200', '0<=X<200', \"'no checking'\", \"'no checking'\", '<0',\n",
       "       '<0', '0<=X<200', '0<=X<200', \"'no checking'\", \"'no checking'\",\n",
       "       \"'no checking'\", '>=200', '<0', '0<=X<200', '<0', '>=200',\n",
       "       '0<=X<200', \"'no checking'\", '<0', '>=200', \"'no checking'\", '<0',\n",
       "       \"'no checking'\", \"'no checking'\", '<0', \"'no checking'\",\n",
       "       \"'no checking'\", \"'no checking'\", '<0', '0<=X<200', '0<=X<200',\n",
       "       '0<=X<200', '0<=X<200', \"'no checking'\", '<0', '0<=X<200', '<0',\n",
       "       '<0', '>=200', '0<=X<200', '0<=X<200', '0<=X<200', '<0',\n",
       "       \"'no checking'\", '0<=X<200', '<0', '<0', \"'no checking'\",\n",
       "       \"'no checking'\", '<0', '0<=X<200', \"'no checking'\", '0<=X<200',\n",
       "       \"'no checking'\", '0<=X<200', \"'no checking'\", '0<=X<200',\n",
       "       '0<=X<200', \"'no checking'\", '0<=X<200', \"'no checking'\", '<0',\n",
       "       '<0', '<0', '<0', '<0', '<0', '0<=X<200', \"'no checking'\",\n",
       "       '0<=X<200', '<0', '0<=X<200', '<0', '0<=X<200', \"'no checking'\",\n",
       "       \"'no checking'\", '0<=X<200', '0<=X<200', '0<=X<200',\n",
       "       \"'no checking'\", '>=200', '<0', \"'no checking'\", '0<=X<200',\n",
       "       \"'no checking'\", \"'no checking'\", '<0', '>=200', '<0', '<0',\n",
       "       \"'no checking'\", '0<=X<200', '0<=X<200', '<0', '0<=X<200',\n",
       "       \"'no checking'\", '0<=X<200', \"'no checking'\", \"'no checking'\",\n",
       "       '<0', '<0', \"'no checking'\", '>=200', '0<=X<200', \"'no checking'\",\n",
       "       \"'no checking'\", '<0', '<0', '0<=X<200', \"'no checking'\",\n",
       "       '0<=X<200', \"'no checking'\", \"'no checking'\", \"'no checking'\",\n",
       "       \"'no checking'\", '<0', '<0', '0<=X<200', \"'no checking'\",\n",
       "       \"'no checking'\", '<0', \"'no checking'\", '<0', \"'no checking'\",\n",
       "       '>=200', '<0', '<0', '0<=X<200', '<0', '0<=X<200', \"'no checking'\",\n",
       "       '<0', '0<=X<200', \"'no checking'\", '0<=X<200', '0<=X<200', '>=200',\n",
       "       '<0', \"'no checking'\", '0<=X<200', '>=200', \"'no checking'\",\n",
       "       '0<=X<200', \"'no checking'\", '<0', '>=200', \"'no checking'\",\n",
       "       \"'no checking'\", \"'no checking'\", \"'no checking'\", \"'no checking'\",\n",
       "       \"'no checking'\", \"'no checking'\", '0<=X<200', '<0',\n",
       "       \"'no checking'\", \"'no checking'\", \"'no checking'\", \"'no checking'\",\n",
       "       \"'no checking'\", '0<=X<200', \"'no checking'\", '>=200', '0<=X<200',\n",
       "       \"'no checking'\", '<0', '<0', '0<=X<200', '0<=X<200', '<0',\n",
       "       \"'no checking'\", \"'no checking'\", '0<=X<200', \"'no checking'\",\n",
       "       \"'no checking'\", '>=200', \"'no checking'\", '<0', '>=200',\n",
       "       '0<=X<200', '0<=X<200', \"'no checking'\", '0<=X<200', '0<=X<200',\n",
       "       '0<=X<200', '0<=X<200', \"'no checking'\", '<0', \"'no checking'\",\n",
       "       '<0', '0<=X<200', \"'no checking'\", \"'no checking'\",\n",
       "       \"'no checking'\", '>=200', '0<=X<200', '>=200', '0<=X<200', '<0',\n",
       "       '0<=X<200', \"'no checking'\", \"'no checking'\", \"'no checking'\",\n",
       "       '<0', '0<=X<200', '>=200', '0<=X<200', '<0', '0<=X<200',\n",
       "       \"'no checking'\", \"'no checking'\", '0<=X<200', '0<=X<200', '<0',\n",
       "       \"'no checking'\", '0<=X<200', '<0', '0<=X<200', \"'no checking'\",\n",
       "       '<0', '<0', '<0', '<0', '<0', \"'no checking'\", \"'no checking'\",\n",
       "       '<0', '<0', '0<=X<200', \"'no checking'\", \"'no checking'\", '<0',\n",
       "       '>=200', '>=200', \"'no checking'\", '<0', \"'no checking'\", '<0',\n",
       "       '<0', \"'no checking'\", \"'no checking'\", '0<=X<200', '<0',\n",
       "       \"'no checking'\", '0<=X<200', \"'no checking'\", '<0', '<0',\n",
       "       \"'no checking'\", \"'no checking'\", '>=200', '<0', \"'no checking'\",\n",
       "       '<0', \"'no checking'\", '0<=X<200', '0<=X<200', \"'no checking'\",\n",
       "       '0<=X<200', '0<=X<200', '0<=X<200', '0<=X<200', \"'no checking'\",\n",
       "       \"'no checking'\", '0<=X<200', '<0', '0<=X<200', \"'no checking'\",\n",
       "       \"'no checking'\", '>=200', \"'no checking'\", \"'no checking'\", '<0',\n",
       "       \"'no checking'\", \"'no checking'\", '0<=X<200', \"'no checking'\",\n",
       "       '0<=X<200', '<0', \"'no checking'\", '0<=X<200', '<0', '0<=X<200',\n",
       "       \"'no checking'\", '0<=X<200', '0<=X<200', '0<=X<200', '0<=X<200',\n",
       "       '<0', '<0', '<0', '0<=X<200', \"'no checking'\", \"'no checking'\",\n",
       "       '<0', '<0', \"'no checking'\", '>=200', '<0', '<0', \"'no checking'\",\n",
       "       '<0', '<0', \"'no checking'\", '<0', '0<=X<200', \"'no checking'\",\n",
       "       '<0', '<0', '0<=X<200', '>=200', '<0', \"'no checking'\",\n",
       "       \"'no checking'\", '<0', \"'no checking'\", '<0', \"'no checking'\",\n",
       "       \"'no checking'\", \"'no checking'\", \"'no checking'\", '0<=X<200',\n",
       "       \"'no checking'\", \"'no checking'\", '<0', '<0', '<0',\n",
       "       \"'no checking'\", \"'no checking'\", '<0', \"'no checking'\",\n",
       "       \"'no checking'\", \"'no checking'\", \"'no checking'\", '<0',\n",
       "       \"'no checking'\", \"'no checking'\", \"'no checking'\", '<0',\n",
       "       \"'no checking'\", \"'no checking'\", \"'no checking'\", '<0',\n",
       "       \"'no checking'\", \"'no checking'\", '<0', \"'no checking'\", '>=200',\n",
       "       '<0', \"'no checking'\", '<0', '0<=X<200', '<0', \"'no checking'\",\n",
       "       '<0', \"'no checking'\", \"'no checking'\", \"'no checking'\",\n",
       "       '0<=X<200', \"'no checking'\", '0<=X<200', '<0', '0<=X<200',\n",
       "       '0<=X<200', \"'no checking'\", \"'no checking'\", '<0',\n",
       "       \"'no checking'\", '<0', '0<=X<200', \"'no checking'\",\n",
       "       \"'no checking'\", '<0', \"'no checking'\", \"'no checking'\", '<0',\n",
       "       '<0', \"'no checking'\", \"'no checking'\", \"'no checking'\",\n",
       "       \"'no checking'\", '<0', '<0', '0<=X<200', \"'no checking'\",\n",
       "       '0<=X<200', \"'no checking'\", '0<=X<200', '0<=X<200',\n",
       "       \"'no checking'\", '<0', '0<=X<200', \"'no checking'\", '<0', '<0',\n",
       "       '<0', \"'no checking'\", \"'no checking'\", '<0', '0<=X<200', '<0',\n",
       "       '<0', '<0', '<0', \"'no checking'\", '<0', '<0', '0<=X<200',\n",
       "       \"'no checking'\", \"'no checking'\", '<0', '0<=X<200', '>=200',\n",
       "       '0<=X<200', '0<=X<200', \"'no checking'\", \"'no checking'\",\n",
       "       \"'no checking'\", \"'no checking'\", \"'no checking'\", '<0',\n",
       "       '0<=X<200', '<0', \"'no checking'\", \"'no checking'\",\n",
       "       \"'no checking'\", '0<=X<200', '<0', '0<=X<200', \"'no checking'\",\n",
       "       '<0', '<0', '>=200', '0<=X<200', '<0', '0<=X<200', \"'no checking'\",\n",
       "       '0<=X<200', \"'no checking'\", \"'no checking'\", '0<=X<200',\n",
       "       '0<=X<200', '0<=X<200', \"'no checking'\", \"'no checking'\", '<0',\n",
       "       '0<=X<200', \"'no checking'\", '<0', '<0', \"'no checking'\", '>=200',\n",
       "       '0<=X<200', '0<=X<200', \"'no checking'\", '0<=X<200', '0<=X<200',\n",
       "       \"'no checking'\", '>=200', '<0', \"'no checking'\", '<0', '>=200',\n",
       "       \"'no checking'\", '<0', '0<=X<200', \"'no checking'\",\n",
       "       \"'no checking'\", '<0', '<0', \"'no checking'\", \"'no checking'\",\n",
       "       '<0', \"'no checking'\", '<0', '0<=X<200'], dtype=object)"
      ]
     },
     "execution_count": 64,
     "metadata": {},
     "output_type": "execute_result"
    }
   ],
   "source": [
    "# Antes do LabelEncoder\n",
    "previsores[:,0]"
   ]
  },
  {
   "cell_type": "code",
   "execution_count": 65,
   "metadata": {},
   "outputs": [],
   "source": [
    "# Transformação dos atrributos categoricos em atributos numericos\n",
    "\n",
    "alterar = [0, 2, 3, 5, 6, 8, 9, 11, 13, 14, 16, 18, 19]\n",
    "labelencoder = LabelEncoder()\n",
    "for coluna in alterar:\n",
    "    previsores[:,coluna] = labelencoder.fit_transform(previsores[:,coluna])\n"
   ]
  },
  {
   "cell_type": "code",
   "execution_count": 66,
   "metadata": {},
   "outputs": [
    {
     "data": {
      "text/plain": [
       "array([2, 1, 0, 2, 2, 0, 0, 1, 0, 1, 1, 2, 1, 2, 2, 2, 0, 2, 1, 0, 0, 2,\n",
       "       2, 1, 0, 2, 0, 3, 1, 2, 1, 2, 1, 0, 3, 1, 0, 3, 3, 1, 0, 1, 1, 2,\n",
       "       2, 0, 0, 2, 0, 0, 1, 1, 0, 0, 1, 0, 1, 0, 3, 2, 1, 1, 1, 1, 0, 0,\n",
       "       0, 1, 0, 0, 0, 0, 2, 1, 2, 2, 2, 1, 0, 1, 0, 0, 0, 2, 2, 0, 1, 1,\n",
       "       2, 2, 0, 2, 0, 3, 1, 1, 0, 1, 1, 1, 0, 1, 0, 1, 0, 1, 0, 1, 2, 1,\n",
       "       1, 3, 1, 0, 2, 0, 2, 2, 2, 1, 2, 0, 0, 3, 1, 2, 2, 1, 1, 2, 1, 2,\n",
       "       0, 0, 0, 0, 0, 1, 1, 3, 3, 1, 2, 2, 0, 1, 2, 0, 2, 0, 0, 0, 3, 1,\n",
       "       1, 2, 2, 2, 1, 0, 0, 0, 0, 1, 0, 0, 2, 1, 0, 1, 2, 0, 1, 1, 2, 0,\n",
       "       2, 2, 0, 2, 0, 1, 2, 0, 1, 0, 1, 1, 2, 1, 0, 1, 1, 0, 1, 1, 0, 1,\n",
       "       1, 1, 0, 2, 0, 2, 0, 2, 0, 1, 2, 0, 0, 0, 2, 3, 0, 1, 2, 3, 2, 0,\n",
       "       1, 2, 0, 0, 0, 0, 1, 2, 0, 2, 3, 0, 0, 1, 0, 2, 1, 1, 0, 2, 2, 0,\n",
       "       2, 0, 0, 0, 0, 0, 3, 0, 2, 3, 1, 0, 1, 1, 0, 2, 0, 0, 2, 2, 2, 0,\n",
       "       0, 1, 0, 0, 2, 0, 0, 0, 1, 1, 2, 0, 0, 2, 0, 0, 0, 0, 3, 0, 1, 2,\n",
       "       2, 1, 1, 2, 0, 1, 2, 3, 0, 1, 0, 0, 0, 1, 0, 1, 3, 2, 0, 0, 0, 2,\n",
       "       1, 1, 1, 0, 3, 1, 3, 2, 2, 1, 0, 2, 1, 2, 2, 2, 0, 2, 0, 0, 3, 1,\n",
       "       2, 0, 1, 0, 2, 2, 1, 2, 2, 1, 1, 2, 1, 1, 3, 0, 1, 1, 0, 1, 0, 1,\n",
       "       0, 2, 0, 1, 0, 0, 0, 2, 1, 3, 3, 0, 2, 0, 0, 2, 2, 1, 0, 0, 0, 0,\n",
       "       1, 2, 0, 0, 1, 0, 2, 1, 0, 3, 0, 0, 0, 1, 1, 0, 0, 1, 2, 2, 0, 1,\n",
       "       2, 2, 1, 0, 0, 1, 0, 0, 1, 1, 0, 2, 0, 3, 1, 0, 0, 0, 2, 0, 2, 2,\n",
       "       0, 1, 0, 1, 1, 0, 1, 1, 0, 0, 0, 2, 0, 1, 2, 0, 2, 1, 0, 0, 2, 3,\n",
       "       0, 2, 1, 0, 1, 0, 2, 1, 3, 1, 0, 0, 0, 0, 2, 0, 2, 2, 2, 0, 2, 2,\n",
       "       1, 1, 0, 2, 2, 0, 0, 0, 1, 2, 2, 0, 1, 2, 0, 3, 1, 2, 1, 1, 2, 0,\n",
       "       0, 1, 0, 0, 0, 0, 0, 1, 0, 1, 2, 2, 1, 0, 1, 3, 2, 2, 3, 1, 2, 0,\n",
       "       3, 1, 0, 0, 2, 0, 3, 1, 0, 2, 2, 0, 2, 0, 0, 2, 2, 0, 1, 1, 0, 0,\n",
       "       2, 2, 1, 1, 0, 0, 0, 3, 2, 1, 2, 3, 1, 0, 2, 3, 0, 2, 0, 0, 2, 0,\n",
       "       0, 0, 2, 1, 1, 1, 1, 0, 2, 1, 2, 2, 3, 1, 1, 1, 2, 0, 1, 2, 2, 0,\n",
       "       0, 2, 1, 0, 1, 0, 1, 0, 1, 1, 0, 1, 0, 2, 2, 2, 2, 2, 2, 1, 0, 1,\n",
       "       2, 1, 2, 1, 0, 0, 1, 1, 1, 0, 3, 2, 0, 1, 0, 0, 2, 3, 2, 2, 0, 1,\n",
       "       1, 2, 1, 0, 1, 0, 0, 2, 2, 0, 3, 1, 0, 0, 2, 2, 1, 0, 1, 0, 0, 0,\n",
       "       0, 2, 2, 1, 0, 0, 2, 0, 2, 0, 3, 2, 2, 1, 2, 1, 0, 2, 1, 0, 1, 1,\n",
       "       3, 2, 0, 1, 3, 0, 1, 0, 2, 3, 0, 0, 0, 0, 0, 0, 0, 1, 2, 0, 0, 0,\n",
       "       0, 0, 1, 0, 3, 1, 0, 2, 2, 1, 1, 2, 0, 0, 1, 0, 0, 3, 0, 2, 3, 1,\n",
       "       1, 0, 1, 1, 1, 1, 0, 2, 0, 2, 1, 0, 0, 0, 3, 1, 3, 1, 2, 1, 0, 0,\n",
       "       0, 2, 1, 3, 1, 2, 1, 0, 0, 1, 1, 2, 0, 1, 2, 1, 0, 2, 2, 2, 2, 2,\n",
       "       0, 0, 2, 2, 1, 0, 0, 2, 3, 3, 0, 2, 0, 2, 2, 0, 0, 1, 2, 0, 1, 0,\n",
       "       2, 2, 0, 0, 3, 2, 0, 2, 0, 1, 1, 0, 1, 1, 1, 1, 0, 0, 1, 2, 1, 0,\n",
       "       0, 3, 0, 0, 2, 0, 0, 1, 0, 1, 2, 0, 1, 2, 1, 0, 1, 1, 1, 1, 2, 2,\n",
       "       2, 1, 0, 0, 2, 2, 0, 3, 2, 2, 0, 2, 2, 0, 2, 1, 0, 2, 2, 1, 3, 2,\n",
       "       0, 0, 2, 0, 2, 0, 0, 0, 0, 1, 0, 0, 2, 2, 2, 0, 0, 2, 0, 0, 0, 0,\n",
       "       2, 0, 0, 0, 2, 0, 0, 0, 2, 0, 0, 2, 0, 3, 2, 0, 2, 1, 2, 0, 2, 0,\n",
       "       0, 0, 1, 0, 1, 2, 1, 1, 0, 0, 2, 0, 2, 1, 0, 0, 2, 0, 0, 2, 2, 0,\n",
       "       0, 0, 0, 2, 2, 1, 0, 1, 0, 1, 1, 0, 2, 1, 0, 2, 2, 2, 0, 0, 2, 1,\n",
       "       2, 2, 2, 2, 0, 2, 2, 1, 0, 0, 2, 1, 3, 1, 1, 0, 0, 0, 0, 0, 2, 1,\n",
       "       2, 0, 0, 0, 1, 2, 1, 0, 2, 2, 3, 1, 2, 1, 0, 1, 0, 0, 1, 1, 1, 0,\n",
       "       0, 2, 1, 0, 2, 2, 0, 3, 1, 1, 0, 1, 1, 0, 3, 2, 0, 2, 3, 0, 2, 1,\n",
       "       0, 0, 2, 2, 0, 0, 2, 0, 2, 1], dtype=object)"
      ]
     },
     "execution_count": 66,
     "metadata": {},
     "output_type": "execute_result"
    }
   ],
   "source": [
    "# Depois do LabelEncoder\n",
    "previsores[:,0]"
   ]
  },
  {
   "cell_type": "code",
   "execution_count": 67,
   "metadata": {},
   "outputs": [],
   "source": [
    "# Divisão da base de dados entre treino e teste\n",
    "X_train, X_test, y_train, y_test = train_test_split(previsores, classe, test_size=0.3, random_state=0)"
   ]
  },
  {
   "cell_type": "code",
   "execution_count": 68,
   "metadata": {},
   "outputs": [
    {
     "data": {
      "text/html": [
       "<style>#sk-container-id-6 {color: black;background-color: white;}#sk-container-id-6 pre{padding: 0;}#sk-container-id-6 div.sk-toggleable {background-color: white;}#sk-container-id-6 label.sk-toggleable__label {cursor: pointer;display: block;width: 100%;margin-bottom: 0;padding: 0.3em;box-sizing: border-box;text-align: center;}#sk-container-id-6 label.sk-toggleable__label-arrow:before {content: \"▸\";float: left;margin-right: 0.25em;color: #696969;}#sk-container-id-6 label.sk-toggleable__label-arrow:hover:before {color: black;}#sk-container-id-6 div.sk-estimator:hover label.sk-toggleable__label-arrow:before {color: black;}#sk-container-id-6 div.sk-toggleable__content {max-height: 0;max-width: 0;overflow: hidden;text-align: left;background-color: #f0f8ff;}#sk-container-id-6 div.sk-toggleable__content pre {margin: 0.2em;color: black;border-radius: 0.25em;background-color: #f0f8ff;}#sk-container-id-6 input.sk-toggleable__control:checked~div.sk-toggleable__content {max-height: 200px;max-width: 100%;overflow: auto;}#sk-container-id-6 input.sk-toggleable__control:checked~label.sk-toggleable__label-arrow:before {content: \"▾\";}#sk-container-id-6 div.sk-estimator input.sk-toggleable__control:checked~label.sk-toggleable__label {background-color: #d4ebff;}#sk-container-id-6 div.sk-label input.sk-toggleable__control:checked~label.sk-toggleable__label {background-color: #d4ebff;}#sk-container-id-6 input.sk-hidden--visually {border: 0;clip: rect(1px 1px 1px 1px);clip: rect(1px, 1px, 1px, 1px);height: 1px;margin: -1px;overflow: hidden;padding: 0;position: absolute;width: 1px;}#sk-container-id-6 div.sk-estimator {font-family: monospace;background-color: #f0f8ff;border: 1px dotted black;border-radius: 0.25em;box-sizing: border-box;margin-bottom: 0.5em;}#sk-container-id-6 div.sk-estimator:hover {background-color: #d4ebff;}#sk-container-id-6 div.sk-parallel-item::after {content: \"\";width: 100%;border-bottom: 1px solid gray;flex-grow: 1;}#sk-container-id-6 div.sk-label:hover label.sk-toggleable__label {background-color: #d4ebff;}#sk-container-id-6 div.sk-serial::before {content: \"\";position: absolute;border-left: 1px solid gray;box-sizing: border-box;top: 0;bottom: 0;left: 50%;z-index: 0;}#sk-container-id-6 div.sk-serial {display: flex;flex-direction: column;align-items: center;background-color: white;padding-right: 0.2em;padding-left: 0.2em;position: relative;}#sk-container-id-6 div.sk-item {position: relative;z-index: 1;}#sk-container-id-6 div.sk-parallel {display: flex;align-items: stretch;justify-content: center;background-color: white;position: relative;}#sk-container-id-6 div.sk-item::before, #sk-container-id-6 div.sk-parallel-item::before {content: \"\";position: absolute;border-left: 1px solid gray;box-sizing: border-box;top: 0;bottom: 0;left: 50%;z-index: -1;}#sk-container-id-6 div.sk-parallel-item {display: flex;flex-direction: column;z-index: 1;position: relative;background-color: white;}#sk-container-id-6 div.sk-parallel-item:first-child::after {align-self: flex-end;width: 50%;}#sk-container-id-6 div.sk-parallel-item:last-child::after {align-self: flex-start;width: 50%;}#sk-container-id-6 div.sk-parallel-item:only-child::after {width: 0;}#sk-container-id-6 div.sk-dashed-wrapped {border: 1px dashed gray;margin: 0 0.4em 0.5em 0.4em;box-sizing: border-box;padding-bottom: 0.4em;background-color: white;}#sk-container-id-6 div.sk-label label {font-family: monospace;font-weight: bold;display: inline-block;line-height: 1.2em;}#sk-container-id-6 div.sk-label-container {text-align: center;}#sk-container-id-6 div.sk-container {/* jupyter's `normalize.less` sets `[hidden] { display: none; }` but bootstrap.min.css set `[hidden] { display: none !important; }` so we also need the `!important` here to be able to override the default hidden behavior on the sphinx rendered scikit-learn.org. See: https://github.com/scikit-learn/scikit-learn/issues/21755 */display: inline-block !important;position: relative;}#sk-container-id-6 div.sk-text-repr-fallback {display: none;}</style><div id=\"sk-container-id-6\" class=\"sk-top-container\"><div class=\"sk-text-repr-fallback\"><pre>SVC()</pre><b>In a Jupyter environment, please rerun this cell to show the HTML representation or trust the notebook. <br />On GitHub, the HTML representation is unable to render, please try loading this page with nbviewer.org.</b></div><div class=\"sk-container\" hidden><div class=\"sk-item\"><div class=\"sk-estimator sk-toggleable\"><input class=\"sk-toggleable__control sk-hidden--visually\" id=\"sk-estimator-id-6\" type=\"checkbox\" checked><label for=\"sk-estimator-id-6\" class=\"sk-toggleable__label sk-toggleable__label-arrow\">SVC</label><div class=\"sk-toggleable__content\"><pre>SVC()</pre></div></div></div></div></div>"
      ],
      "text/plain": [
       "SVC()"
      ]
     },
     "execution_count": 68,
     "metadata": {},
     "output_type": "execute_result"
    }
   ],
   "source": [
    "# Divião da base de dados, treinamento, obtensão das previsões e da tava de acerto\n",
    "svm = SVC()\n",
    "svm.fit(X_train, y_train)"
   ]
  },
  {
   "cell_type": "code",
   "execution_count": 69,
   "metadata": {},
   "outputs": [
    {
     "data": {
      "text/plain": [
       "array(['good', 'good', 'good', 'good', 'good', 'good', 'good', 'good',\n",
       "       'good', 'good', 'good', 'good', 'good', 'good', 'good', 'good',\n",
       "       'good', 'good', 'good', 'good', 'good', 'good', 'good', 'good',\n",
       "       'good', 'good', 'good', 'good', 'good', 'good', 'good', 'good',\n",
       "       'good', 'good', 'good', 'bad', 'good', 'good', 'good', 'good',\n",
       "       'good', 'good', 'good', 'good', 'good', 'good', 'good', 'good',\n",
       "       'good', 'good', 'good', 'good', 'good', 'good', 'good', 'good',\n",
       "       'bad', 'good', 'good', 'good', 'good', 'good', 'good', 'good',\n",
       "       'good', 'good', 'good', 'good', 'good', 'good', 'good', 'good',\n",
       "       'good', 'good', 'good', 'good', 'good', 'good', 'good', 'good',\n",
       "       'good', 'good', 'good', 'good', 'good', 'good', 'bad', 'good',\n",
       "       'good', 'good', 'good', 'good', 'good', 'good', 'good', 'good',\n",
       "       'good', 'good', 'good', 'good', 'good', 'good', 'good', 'good',\n",
       "       'good', 'good', 'good', 'good', 'good', 'good', 'good', 'good',\n",
       "       'good', 'good', 'good', 'good', 'good', 'good', 'good', 'good',\n",
       "       'good', 'good', 'good', 'good', 'good', 'good', 'good', 'good',\n",
       "       'good', 'good', 'good', 'good', 'good', 'good', 'good', 'good',\n",
       "       'good', 'good', 'good', 'good', 'good', 'bad', 'good', 'good',\n",
       "       'good', 'good', 'good', 'bad', 'good', 'good', 'good', 'good',\n",
       "       'good', 'good', 'good', 'good', 'good', 'good', 'good', 'good',\n",
       "       'good', 'good', 'good', 'good', 'good', 'bad', 'good', 'good',\n",
       "       'good', 'good', 'good', 'good', 'good', 'good', 'good', 'good',\n",
       "       'good', 'good', 'good', 'good', 'good', 'good', 'good', 'good',\n",
       "       'good', 'good', 'good', 'good', 'good', 'good', 'good', 'bad',\n",
       "       'good', 'good', 'good', 'good', 'good', 'good', 'good', 'good',\n",
       "       'good', 'good', 'good', 'good', 'good', 'good', 'good', 'good',\n",
       "       'good', 'good', 'good', 'good', 'good', 'good', 'good', 'good',\n",
       "       'good', 'good', 'good', 'good', 'good', 'good', 'good', 'good',\n",
       "       'good', 'good', 'good', 'good', 'bad', 'good', 'good', 'good',\n",
       "       'good', 'good', 'good', 'good', 'good', 'good', 'good', 'good',\n",
       "       'good', 'good', 'good', 'good', 'good', 'good', 'good', 'good',\n",
       "       'good', 'good', 'good', 'good', 'good', 'good', 'good', 'good',\n",
       "       'good', 'good', 'good', 'good', 'good', 'good', 'good', 'good',\n",
       "       'bad', 'good', 'good', 'good', 'good', 'good', 'good', 'good',\n",
       "       'good', 'good', 'good', 'good', 'good', 'good', 'good', 'good',\n",
       "       'good', 'good', 'good', 'good', 'good', 'good', 'good', 'good',\n",
       "       'good', 'good', 'good', 'good', 'good', 'good', 'good', 'good',\n",
       "       'good', 'good', 'good', 'good'], dtype=object)"
      ]
     },
     "execution_count": 69,
     "metadata": {},
     "output_type": "execute_result"
    }
   ],
   "source": [
    "# previsões\n",
    "previsoes = svm.predict(X_test)\n",
    "previsoes"
   ]
  },
  {
   "cell_type": "code",
   "execution_count": 70,
   "metadata": {},
   "outputs": [
    {
     "data": {
      "text/plain": [
       "'71.67%'"
      ]
     },
     "execution_count": 70,
     "metadata": {},
     "output_type": "execute_result"
    }
   ],
   "source": [
    "# Calculo da acurácia de acerto\n",
    "taxa_acerto = accuracy_score(y_test, previsoes)\n",
    "\n",
    "f\"{taxa_acerto*100:.2f}%\""
   ]
  },
  {
   "cell_type": "code",
   "execution_count": 71,
   "metadata": {},
   "outputs": [
    {
     "data": {
      "text/plain": [
       "array([0.10762248, 0.08538274, 0.06025817, 0.06110824, 0.07960625,\n",
       "       0.04591926, 0.05330284, 0.05104679, 0.04551977, 0.02594556,\n",
       "       0.05075469, 0.05014772, 0.06372742, 0.03724459, 0.03862706,\n",
       "       0.0363038 , 0.0423517 , 0.02375465, 0.0333532 , 0.00802306])"
      ]
     },
     "execution_count": 71,
     "metadata": {},
     "output_type": "execute_result"
    }
   ],
   "source": [
    "# Ultilização do algoritmo ExtraTreeClassifier para extrair as caracteristicas mais importantes\n",
    "forest = ExtraTreesClassifier()\n",
    "forest.fit(X_train, y_train)\n",
    "importancias = forest.feature_importances_\n",
    "\n",
    "importancias"
   ]
  },
  {
   "cell_type": "code",
   "execution_count": 72,
   "metadata": {},
   "outputs": [],
   "source": [
    "# Criação da nova base de dados utilizandoi somente os atributos mais importantes\n",
    "X_train2 = X_train[:,[0, 1, 2, 3]]\n",
    "X_test2 = X_test[:,[0, 1, 2, 3]]"
   ]
  },
  {
   "cell_type": "code",
   "execution_count": 73,
   "metadata": {},
   "outputs": [
    {
     "data": {
      "text/plain": [
       "'71.33%'"
      ]
     },
     "execution_count": 73,
     "metadata": {},
     "output_type": "execute_result"
    }
   ],
   "source": [
    "# Criação de um novo modelo de dados reduzida, treinamento e obtensão das previsões e taxa de acerto\n",
    "svm2 = SVC()\n",
    "svm2.fit(X_train2, y_train)\n",
    "previsoes2 = svm2.predict(X_test2)\n",
    "taxa_acerto = accuracy_score(y_test, previsoes2)\n",
    "f\"{taxa_acerto*100:.2f}%\""
   ]
  }
 ],
 "metadata": {
  "kernelspec": {
   "display_name": "MeuLab",
   "language": "python",
   "name": "python3"
  },
  "language_info": {
   "codemirror_mode": {
    "name": "ipython",
    "version": 3
   },
   "file_extension": ".py",
   "mimetype": "text/x-python",
   "name": "python",
   "nbconvert_exporter": "python",
   "pygments_lexer": "ipython3",
   "version": "3.10.6"
  },
  "orig_nbformat": 4
 },
 "nbformat": 4,
 "nbformat_minor": 2
}
