{
 "cells": [
  {
   "attachments": {},
   "cell_type": "markdown",
   "metadata": {},
   "source": [
    "# Seleção de Atributos"
   ]
  },
  {
   "cell_type": "code",
   "execution_count": 40,
   "metadata": {},
   "outputs": [],
   "source": [
    "import pandas as pd\n",
    "from sklearn.model_selection import train_test_split\n",
    "from sklearn.preprocessing import LabelEncoder\n",
    "from sklearn.metrics import confusion_matrix, accuracy_score\n",
    "from sklearn.svm import SVC\n",
    "from sklearn.ensemble import ExtraTreesClassifier"
   ]
  },
  {
   "cell_type": "code",
   "execution_count": 41,
   "metadata": {},
   "outputs": [],
   "source": [
    "df = pd.read_csv('../Dados/Credit.csv')"
   ]
  },
  {
   "cell_type": "code",
   "execution_count": 42,
   "metadata": {},
   "outputs": [],
   "source": [
    "previsores = df.iloc[:,0:20].values\n",
    "classe = df.iloc[:,20].values"
   ]
  },
  {
   "cell_type": "code",
   "execution_count": 43,
   "metadata": {},
   "outputs": [
    {
     "data": {
      "text/plain": [
       "array(['<0', '0<=X<200', \"'no checking'\", '<0', '<0', \"'no checking'\",\n",
       "       \"'no checking'\", '0<=X<200', \"'no checking'\", '0<=X<200',\n",
       "       '0<=X<200', '<0', '0<=X<200', '<0', '<0', '<0', \"'no checking'\",\n",
       "       '<0', '0<=X<200', \"'no checking'\", \"'no checking'\", '<0', '<0',\n",
       "       '0<=X<200', \"'no checking'\", '<0', \"'no checking'\", '>=200',\n",
       "       '0<=X<200', '<0', '0<=X<200', '<0', '0<=X<200', \"'no checking'\",\n",
       "       '>=200', '0<=X<200', \"'no checking'\", '>=200', '>=200', '0<=X<200',\n",
       "       \"'no checking'\", '0<=X<200', '0<=X<200', '<0', '<0',\n",
       "       \"'no checking'\", \"'no checking'\", '<0', \"'no checking'\",\n",
       "       \"'no checking'\", '0<=X<200', '0<=X<200', \"'no checking'\",\n",
       "       \"'no checking'\", '0<=X<200', \"'no checking'\", '0<=X<200',\n",
       "       \"'no checking'\", '>=200', '<0', '0<=X<200', '0<=X<200', '0<=X<200',\n",
       "       '0<=X<200', \"'no checking'\", \"'no checking'\", \"'no checking'\",\n",
       "       '0<=X<200', \"'no checking'\", \"'no checking'\", \"'no checking'\",\n",
       "       \"'no checking'\", '<0', '0<=X<200', '<0', '<0', '<0', '0<=X<200',\n",
       "       \"'no checking'\", '0<=X<200', \"'no checking'\", \"'no checking'\",\n",
       "       \"'no checking'\", '<0', '<0', \"'no checking'\", '0<=X<200',\n",
       "       '0<=X<200', '<0', '<0', \"'no checking'\", '<0', \"'no checking'\",\n",
       "       '>=200', '0<=X<200', '0<=X<200', \"'no checking'\", '0<=X<200',\n",
       "       '0<=X<200', '0<=X<200', \"'no checking'\", '0<=X<200',\n",
       "       \"'no checking'\", '0<=X<200', \"'no checking'\", '0<=X<200',\n",
       "       \"'no checking'\", '0<=X<200', '<0', '0<=X<200', '0<=X<200', '>=200',\n",
       "       '0<=X<200', \"'no checking'\", '<0', \"'no checking'\", '<0', '<0',\n",
       "       '<0', '0<=X<200', '<0', \"'no checking'\", \"'no checking'\", '>=200',\n",
       "       '0<=X<200', '<0', '<0', '0<=X<200', '0<=X<200', '<0', '0<=X<200',\n",
       "       '<0', \"'no checking'\", \"'no checking'\", \"'no checking'\",\n",
       "       \"'no checking'\", \"'no checking'\", '0<=X<200', '0<=X<200', '>=200',\n",
       "       '>=200', '0<=X<200', '<0', '<0', \"'no checking'\", '0<=X<200', '<0',\n",
       "       \"'no checking'\", '<0', \"'no checking'\", \"'no checking'\",\n",
       "       \"'no checking'\", '>=200', '0<=X<200', '0<=X<200', '<0', '<0', '<0',\n",
       "       '0<=X<200', \"'no checking'\", \"'no checking'\", \"'no checking'\",\n",
       "       \"'no checking'\", '0<=X<200', \"'no checking'\", \"'no checking'\",\n",
       "       '<0', '0<=X<200', \"'no checking'\", '0<=X<200', '<0',\n",
       "       \"'no checking'\", '0<=X<200', '0<=X<200', '<0', \"'no checking'\",\n",
       "       '<0', '<0', \"'no checking'\", '<0', \"'no checking'\", '0<=X<200',\n",
       "       '<0', \"'no checking'\", '0<=X<200', \"'no checking'\", '0<=X<200',\n",
       "       '0<=X<200', '<0', '0<=X<200', \"'no checking'\", '0<=X<200',\n",
       "       '0<=X<200', \"'no checking'\", '0<=X<200', '0<=X<200',\n",
       "       \"'no checking'\", '0<=X<200', '0<=X<200', '0<=X<200',\n",
       "       \"'no checking'\", '<0', \"'no checking'\", '<0', \"'no checking'\",\n",
       "       '<0', \"'no checking'\", '0<=X<200', '<0', \"'no checking'\",\n",
       "       \"'no checking'\", \"'no checking'\", '<0', '>=200', \"'no checking'\",\n",
       "       '0<=X<200', '<0', '>=200', '<0', \"'no checking'\", '0<=X<200', '<0',\n",
       "       \"'no checking'\", \"'no checking'\", \"'no checking'\", \"'no checking'\",\n",
       "       '0<=X<200', '<0', \"'no checking'\", '<0', '>=200', \"'no checking'\",\n",
       "       \"'no checking'\", '0<=X<200', \"'no checking'\", '<0', '0<=X<200',\n",
       "       '0<=X<200', \"'no checking'\", '<0', '<0', \"'no checking'\", '<0',\n",
       "       \"'no checking'\", \"'no checking'\", \"'no checking'\", \"'no checking'\",\n",
       "       \"'no checking'\", '>=200', \"'no checking'\", '<0', '>=200',\n",
       "       '0<=X<200', \"'no checking'\", '0<=X<200', '0<=X<200',\n",
       "       \"'no checking'\", '<0', \"'no checking'\", \"'no checking'\", '<0',\n",
       "       '<0', '<0', \"'no checking'\", \"'no checking'\", '0<=X<200',\n",
       "       \"'no checking'\", \"'no checking'\", '<0', \"'no checking'\",\n",
       "       \"'no checking'\", \"'no checking'\", '0<=X<200', '0<=X<200', '<0',\n",
       "       \"'no checking'\", \"'no checking'\", '<0', \"'no checking'\",\n",
       "       \"'no checking'\", \"'no checking'\", \"'no checking'\", '>=200',\n",
       "       \"'no checking'\", '0<=X<200', '<0', '<0', '0<=X<200', '0<=X<200',\n",
       "       '<0', \"'no checking'\", '0<=X<200', '<0', '>=200', \"'no checking'\",\n",
       "       '0<=X<200', \"'no checking'\", \"'no checking'\", \"'no checking'\",\n",
       "       '0<=X<200', \"'no checking'\", '0<=X<200', '>=200', '<0',\n",
       "       \"'no checking'\", \"'no checking'\", \"'no checking'\", '<0',\n",
       "       '0<=X<200', '0<=X<200', '0<=X<200', \"'no checking'\", '>=200',\n",
       "       '0<=X<200', '>=200', '<0', '<0', '0<=X<200', \"'no checking'\", '<0',\n",
       "       '0<=X<200', '<0', '<0', '<0', \"'no checking'\", '<0',\n",
       "       \"'no checking'\", \"'no checking'\", '>=200', '0<=X<200', '<0',\n",
       "       \"'no checking'\", '0<=X<200', \"'no checking'\", '<0', '<0',\n",
       "       '0<=X<200', '<0', '<0', '0<=X<200', '0<=X<200', '<0', '0<=X<200',\n",
       "       '0<=X<200', '>=200', \"'no checking'\", '0<=X<200', '0<=X<200',\n",
       "       \"'no checking'\", '0<=X<200', \"'no checking'\", '0<=X<200',\n",
       "       \"'no checking'\", '<0', \"'no checking'\", '0<=X<200',\n",
       "       \"'no checking'\", \"'no checking'\", \"'no checking'\", '<0',\n",
       "       '0<=X<200', '>=200', '>=200', \"'no checking'\", '<0',\n",
       "       \"'no checking'\", \"'no checking'\", '<0', '<0', '0<=X<200',\n",
       "       \"'no checking'\", \"'no checking'\", \"'no checking'\", \"'no checking'\",\n",
       "       '0<=X<200', '<0', \"'no checking'\", \"'no checking'\", '0<=X<200',\n",
       "       \"'no checking'\", '<0', '0<=X<200', \"'no checking'\", '>=200',\n",
       "       \"'no checking'\", \"'no checking'\", \"'no checking'\", '0<=X<200',\n",
       "       '0<=X<200', \"'no checking'\", \"'no checking'\", '0<=X<200', '<0',\n",
       "       '<0', \"'no checking'\", '0<=X<200', '<0', '<0', '0<=X<200',\n",
       "       \"'no checking'\", \"'no checking'\", '0<=X<200', \"'no checking'\",\n",
       "       \"'no checking'\", '0<=X<200', '0<=X<200', \"'no checking'\", '<0',\n",
       "       \"'no checking'\", '>=200', '0<=X<200', \"'no checking'\",\n",
       "       \"'no checking'\", \"'no checking'\", '<0', \"'no checking'\", '<0',\n",
       "       '<0', \"'no checking'\", '0<=X<200', \"'no checking'\", '0<=X<200',\n",
       "       '0<=X<200', \"'no checking'\", '0<=X<200', '0<=X<200',\n",
       "       \"'no checking'\", \"'no checking'\", \"'no checking'\", '<0',\n",
       "       \"'no checking'\", '0<=X<200', '<0', \"'no checking'\", '<0',\n",
       "       '0<=X<200', \"'no checking'\", \"'no checking'\", '<0', '>=200',\n",
       "       \"'no checking'\", '<0', '0<=X<200', \"'no checking'\", '0<=X<200',\n",
       "       \"'no checking'\", '<0', '0<=X<200', '>=200', '0<=X<200',\n",
       "       \"'no checking'\", \"'no checking'\", \"'no checking'\", \"'no checking'\",\n",
       "       '<0', \"'no checking'\", '<0', '<0', '<0', \"'no checking'\", '<0',\n",
       "       '<0', '0<=X<200', '0<=X<200', \"'no checking'\", '<0', '<0',\n",
       "       \"'no checking'\", \"'no checking'\", \"'no checking'\", '0<=X<200',\n",
       "       '<0', '<0', \"'no checking'\", '0<=X<200', '<0', \"'no checking'\",\n",
       "       '>=200', '0<=X<200', '<0', '0<=X<200', '0<=X<200', '<0',\n",
       "       \"'no checking'\", \"'no checking'\", '0<=X<200', \"'no checking'\",\n",
       "       \"'no checking'\", \"'no checking'\", \"'no checking'\", \"'no checking'\",\n",
       "       '0<=X<200', \"'no checking'\", '0<=X<200', '<0', '<0', '0<=X<200',\n",
       "       \"'no checking'\", '0<=X<200', '>=200', '<0', '<0', '>=200',\n",
       "       '0<=X<200', '<0', \"'no checking'\", '>=200', '0<=X<200',\n",
       "       \"'no checking'\", \"'no checking'\", '<0', \"'no checking'\", '>=200',\n",
       "       '0<=X<200', \"'no checking'\", '<0', '<0', \"'no checking'\", '<0',\n",
       "       \"'no checking'\", \"'no checking'\", '<0', '<0', \"'no checking'\",\n",
       "       '0<=X<200', '0<=X<200', \"'no checking'\", \"'no checking'\", '<0',\n",
       "       '<0', '0<=X<200', '0<=X<200', \"'no checking'\", \"'no checking'\",\n",
       "       \"'no checking'\", '>=200', '<0', '0<=X<200', '<0', '>=200',\n",
       "       '0<=X<200', \"'no checking'\", '<0', '>=200', \"'no checking'\", '<0',\n",
       "       \"'no checking'\", \"'no checking'\", '<0', \"'no checking'\",\n",
       "       \"'no checking'\", \"'no checking'\", '<0', '0<=X<200', '0<=X<200',\n",
       "       '0<=X<200', '0<=X<200', \"'no checking'\", '<0', '0<=X<200', '<0',\n",
       "       '<0', '>=200', '0<=X<200', '0<=X<200', '0<=X<200', '<0',\n",
       "       \"'no checking'\", '0<=X<200', '<0', '<0', \"'no checking'\",\n",
       "       \"'no checking'\", '<0', '0<=X<200', \"'no checking'\", '0<=X<200',\n",
       "       \"'no checking'\", '0<=X<200', \"'no checking'\", '0<=X<200',\n",
       "       '0<=X<200', \"'no checking'\", '0<=X<200', \"'no checking'\", '<0',\n",
       "       '<0', '<0', '<0', '<0', '<0', '0<=X<200', \"'no checking'\",\n",
       "       '0<=X<200', '<0', '0<=X<200', '<0', '0<=X<200', \"'no checking'\",\n",
       "       \"'no checking'\", '0<=X<200', '0<=X<200', '0<=X<200',\n",
       "       \"'no checking'\", '>=200', '<0', \"'no checking'\", '0<=X<200',\n",
       "       \"'no checking'\", \"'no checking'\", '<0', '>=200', '<0', '<0',\n",
       "       \"'no checking'\", '0<=X<200', '0<=X<200', '<0', '0<=X<200',\n",
       "       \"'no checking'\", '0<=X<200', \"'no checking'\", \"'no checking'\",\n",
       "       '<0', '<0', \"'no checking'\", '>=200', '0<=X<200', \"'no checking'\",\n",
       "       \"'no checking'\", '<0', '<0', '0<=X<200', \"'no checking'\",\n",
       "       '0<=X<200', \"'no checking'\", \"'no checking'\", \"'no checking'\",\n",
       "       \"'no checking'\", '<0', '<0', '0<=X<200', \"'no checking'\",\n",
       "       \"'no checking'\", '<0', \"'no checking'\", '<0', \"'no checking'\",\n",
       "       '>=200', '<0', '<0', '0<=X<200', '<0', '0<=X<200', \"'no checking'\",\n",
       "       '<0', '0<=X<200', \"'no checking'\", '0<=X<200', '0<=X<200', '>=200',\n",
       "       '<0', \"'no checking'\", '0<=X<200', '>=200', \"'no checking'\",\n",
       "       '0<=X<200', \"'no checking'\", '<0', '>=200', \"'no checking'\",\n",
       "       \"'no checking'\", \"'no checking'\", \"'no checking'\", \"'no checking'\",\n",
       "       \"'no checking'\", \"'no checking'\", '0<=X<200', '<0',\n",
       "       \"'no checking'\", \"'no checking'\", \"'no checking'\", \"'no checking'\",\n",
       "       \"'no checking'\", '0<=X<200', \"'no checking'\", '>=200', '0<=X<200',\n",
       "       \"'no checking'\", '<0', '<0', '0<=X<200', '0<=X<200', '<0',\n",
       "       \"'no checking'\", \"'no checking'\", '0<=X<200', \"'no checking'\",\n",
       "       \"'no checking'\", '>=200', \"'no checking'\", '<0', '>=200',\n",
       "       '0<=X<200', '0<=X<200', \"'no checking'\", '0<=X<200', '0<=X<200',\n",
       "       '0<=X<200', '0<=X<200', \"'no checking'\", '<0', \"'no checking'\",\n",
       "       '<0', '0<=X<200', \"'no checking'\", \"'no checking'\",\n",
       "       \"'no checking'\", '>=200', '0<=X<200', '>=200', '0<=X<200', '<0',\n",
       "       '0<=X<200', \"'no checking'\", \"'no checking'\", \"'no checking'\",\n",
       "       '<0', '0<=X<200', '>=200', '0<=X<200', '<0', '0<=X<200',\n",
       "       \"'no checking'\", \"'no checking'\", '0<=X<200', '0<=X<200', '<0',\n",
       "       \"'no checking'\", '0<=X<200', '<0', '0<=X<200', \"'no checking'\",\n",
       "       '<0', '<0', '<0', '<0', '<0', \"'no checking'\", \"'no checking'\",\n",
       "       '<0', '<0', '0<=X<200', \"'no checking'\", \"'no checking'\", '<0',\n",
       "       '>=200', '>=200', \"'no checking'\", '<0', \"'no checking'\", '<0',\n",
       "       '<0', \"'no checking'\", \"'no checking'\", '0<=X<200', '<0',\n",
       "       \"'no checking'\", '0<=X<200', \"'no checking'\", '<0', '<0',\n",
       "       \"'no checking'\", \"'no checking'\", '>=200', '<0', \"'no checking'\",\n",
       "       '<0', \"'no checking'\", '0<=X<200', '0<=X<200', \"'no checking'\",\n",
       "       '0<=X<200', '0<=X<200', '0<=X<200', '0<=X<200', \"'no checking'\",\n",
       "       \"'no checking'\", '0<=X<200', '<0', '0<=X<200', \"'no checking'\",\n",
       "       \"'no checking'\", '>=200', \"'no checking'\", \"'no checking'\", '<0',\n",
       "       \"'no checking'\", \"'no checking'\", '0<=X<200', \"'no checking'\",\n",
       "       '0<=X<200', '<0', \"'no checking'\", '0<=X<200', '<0', '0<=X<200',\n",
       "       \"'no checking'\", '0<=X<200', '0<=X<200', '0<=X<200', '0<=X<200',\n",
       "       '<0', '<0', '<0', '0<=X<200', \"'no checking'\", \"'no checking'\",\n",
       "       '<0', '<0', \"'no checking'\", '>=200', '<0', '<0', \"'no checking'\",\n",
       "       '<0', '<0', \"'no checking'\", '<0', '0<=X<200', \"'no checking'\",\n",
       "       '<0', '<0', '0<=X<200', '>=200', '<0', \"'no checking'\",\n",
       "       \"'no checking'\", '<0', \"'no checking'\", '<0', \"'no checking'\",\n",
       "       \"'no checking'\", \"'no checking'\", \"'no checking'\", '0<=X<200',\n",
       "       \"'no checking'\", \"'no checking'\", '<0', '<0', '<0',\n",
       "       \"'no checking'\", \"'no checking'\", '<0', \"'no checking'\",\n",
       "       \"'no checking'\", \"'no checking'\", \"'no checking'\", '<0',\n",
       "       \"'no checking'\", \"'no checking'\", \"'no checking'\", '<0',\n",
       "       \"'no checking'\", \"'no checking'\", \"'no checking'\", '<0',\n",
       "       \"'no checking'\", \"'no checking'\", '<0', \"'no checking'\", '>=200',\n",
       "       '<0', \"'no checking'\", '<0', '0<=X<200', '<0', \"'no checking'\",\n",
       "       '<0', \"'no checking'\", \"'no checking'\", \"'no checking'\",\n",
       "       '0<=X<200', \"'no checking'\", '0<=X<200', '<0', '0<=X<200',\n",
       "       '0<=X<200', \"'no checking'\", \"'no checking'\", '<0',\n",
       "       \"'no checking'\", '<0', '0<=X<200', \"'no checking'\",\n",
       "       \"'no checking'\", '<0', \"'no checking'\", \"'no checking'\", '<0',\n",
       "       '<0', \"'no checking'\", \"'no checking'\", \"'no checking'\",\n",
       "       \"'no checking'\", '<0', '<0', '0<=X<200', \"'no checking'\",\n",
       "       '0<=X<200', \"'no checking'\", '0<=X<200', '0<=X<200',\n",
       "       \"'no checking'\", '<0', '0<=X<200', \"'no checking'\", '<0', '<0',\n",
       "       '<0', \"'no checking'\", \"'no checking'\", '<0', '0<=X<200', '<0',\n",
       "       '<0', '<0', '<0', \"'no checking'\", '<0', '<0', '0<=X<200',\n",
       "       \"'no checking'\", \"'no checking'\", '<0', '0<=X<200', '>=200',\n",
       "       '0<=X<200', '0<=X<200', \"'no checking'\", \"'no checking'\",\n",
       "       \"'no checking'\", \"'no checking'\", \"'no checking'\", '<0',\n",
       "       '0<=X<200', '<0', \"'no checking'\", \"'no checking'\",\n",
       "       \"'no checking'\", '0<=X<200', '<0', '0<=X<200', \"'no checking'\",\n",
       "       '<0', '<0', '>=200', '0<=X<200', '<0', '0<=X<200', \"'no checking'\",\n",
       "       '0<=X<200', \"'no checking'\", \"'no checking'\", '0<=X<200',\n",
       "       '0<=X<200', '0<=X<200', \"'no checking'\", \"'no checking'\", '<0',\n",
       "       '0<=X<200', \"'no checking'\", '<0', '<0', \"'no checking'\", '>=200',\n",
       "       '0<=X<200', '0<=X<200', \"'no checking'\", '0<=X<200', '0<=X<200',\n",
       "       \"'no checking'\", '>=200', '<0', \"'no checking'\", '<0', '>=200',\n",
       "       \"'no checking'\", '<0', '0<=X<200', \"'no checking'\",\n",
       "       \"'no checking'\", '<0', '<0', \"'no checking'\", \"'no checking'\",\n",
       "       '<0', \"'no checking'\", '<0', '0<=X<200'], dtype=object)"
      ]
     },
     "execution_count": 43,
     "metadata": {},
     "output_type": "execute_result"
    }
   ],
   "source": [
    "# Antes do LabelEncoder\n",
    "previsores[:,0]"
   ]
  },
  {
   "cell_type": "code",
   "execution_count": 44,
   "metadata": {},
   "outputs": [],
   "source": [
    "# Transformação dos atrributos categoricos em atributos numericos\n",
    "\n",
    "alterar = [0, 2, 3, 5, 6, 8, 9, 11, 13, 14, 16, 18, 19]\n",
    "labelencoder = LabelEncoder()\n",
    "for coluna in alterar:\n",
    "    previsores[:,coluna] = labelencoder.fit_transform(previsores[:,coluna])\n"
   ]
  },
  {
   "cell_type": "code",
   "execution_count": 45,
   "metadata": {},
   "outputs": [
    {
     "data": {
      "text/plain": [
       "array([2, 1, 0, 2, 2, 0, 0, 1, 0, 1, 1, 2, 1, 2, 2, 2, 0, 2, 1, 0, 0, 2,\n",
       "       2, 1, 0, 2, 0, 3, 1, 2, 1, 2, 1, 0, 3, 1, 0, 3, 3, 1, 0, 1, 1, 2,\n",
       "       2, 0, 0, 2, 0, 0, 1, 1, 0, 0, 1, 0, 1, 0, 3, 2, 1, 1, 1, 1, 0, 0,\n",
       "       0, 1, 0, 0, 0, 0, 2, 1, 2, 2, 2, 1, 0, 1, 0, 0, 0, 2, 2, 0, 1, 1,\n",
       "       2, 2, 0, 2, 0, 3, 1, 1, 0, 1, 1, 1, 0, 1, 0, 1, 0, 1, 0, 1, 2, 1,\n",
       "       1, 3, 1, 0, 2, 0, 2, 2, 2, 1, 2, 0, 0, 3, 1, 2, 2, 1, 1, 2, 1, 2,\n",
       "       0, 0, 0, 0, 0, 1, 1, 3, 3, 1, 2, 2, 0, 1, 2, 0, 2, 0, 0, 0, 3, 1,\n",
       "       1, 2, 2, 2, 1, 0, 0, 0, 0, 1, 0, 0, 2, 1, 0, 1, 2, 0, 1, 1, 2, 0,\n",
       "       2, 2, 0, 2, 0, 1, 2, 0, 1, 0, 1, 1, 2, 1, 0, 1, 1, 0, 1, 1, 0, 1,\n",
       "       1, 1, 0, 2, 0, 2, 0, 2, 0, 1, 2, 0, 0, 0, 2, 3, 0, 1, 2, 3, 2, 0,\n",
       "       1, 2, 0, 0, 0, 0, 1, 2, 0, 2, 3, 0, 0, 1, 0, 2, 1, 1, 0, 2, 2, 0,\n",
       "       2, 0, 0, 0, 0, 0, 3, 0, 2, 3, 1, 0, 1, 1, 0, 2, 0, 0, 2, 2, 2, 0,\n",
       "       0, 1, 0, 0, 2, 0, 0, 0, 1, 1, 2, 0, 0, 2, 0, 0, 0, 0, 3, 0, 1, 2,\n",
       "       2, 1, 1, 2, 0, 1, 2, 3, 0, 1, 0, 0, 0, 1, 0, 1, 3, 2, 0, 0, 0, 2,\n",
       "       1, 1, 1, 0, 3, 1, 3, 2, 2, 1, 0, 2, 1, 2, 2, 2, 0, 2, 0, 0, 3, 1,\n",
       "       2, 0, 1, 0, 2, 2, 1, 2, 2, 1, 1, 2, 1, 1, 3, 0, 1, 1, 0, 1, 0, 1,\n",
       "       0, 2, 0, 1, 0, 0, 0, 2, 1, 3, 3, 0, 2, 0, 0, 2, 2, 1, 0, 0, 0, 0,\n",
       "       1, 2, 0, 0, 1, 0, 2, 1, 0, 3, 0, 0, 0, 1, 1, 0, 0, 1, 2, 2, 0, 1,\n",
       "       2, 2, 1, 0, 0, 1, 0, 0, 1, 1, 0, 2, 0, 3, 1, 0, 0, 0, 2, 0, 2, 2,\n",
       "       0, 1, 0, 1, 1, 0, 1, 1, 0, 0, 0, 2, 0, 1, 2, 0, 2, 1, 0, 0, 2, 3,\n",
       "       0, 2, 1, 0, 1, 0, 2, 1, 3, 1, 0, 0, 0, 0, 2, 0, 2, 2, 2, 0, 2, 2,\n",
       "       1, 1, 0, 2, 2, 0, 0, 0, 1, 2, 2, 0, 1, 2, 0, 3, 1, 2, 1, 1, 2, 0,\n",
       "       0, 1, 0, 0, 0, 0, 0, 1, 0, 1, 2, 2, 1, 0, 1, 3, 2, 2, 3, 1, 2, 0,\n",
       "       3, 1, 0, 0, 2, 0, 3, 1, 0, 2, 2, 0, 2, 0, 0, 2, 2, 0, 1, 1, 0, 0,\n",
       "       2, 2, 1, 1, 0, 0, 0, 3, 2, 1, 2, 3, 1, 0, 2, 3, 0, 2, 0, 0, 2, 0,\n",
       "       0, 0, 2, 1, 1, 1, 1, 0, 2, 1, 2, 2, 3, 1, 1, 1, 2, 0, 1, 2, 2, 0,\n",
       "       0, 2, 1, 0, 1, 0, 1, 0, 1, 1, 0, 1, 0, 2, 2, 2, 2, 2, 2, 1, 0, 1,\n",
       "       2, 1, 2, 1, 0, 0, 1, 1, 1, 0, 3, 2, 0, 1, 0, 0, 2, 3, 2, 2, 0, 1,\n",
       "       1, 2, 1, 0, 1, 0, 0, 2, 2, 0, 3, 1, 0, 0, 2, 2, 1, 0, 1, 0, 0, 0,\n",
       "       0, 2, 2, 1, 0, 0, 2, 0, 2, 0, 3, 2, 2, 1, 2, 1, 0, 2, 1, 0, 1, 1,\n",
       "       3, 2, 0, 1, 3, 0, 1, 0, 2, 3, 0, 0, 0, 0, 0, 0, 0, 1, 2, 0, 0, 0,\n",
       "       0, 0, 1, 0, 3, 1, 0, 2, 2, 1, 1, 2, 0, 0, 1, 0, 0, 3, 0, 2, 3, 1,\n",
       "       1, 0, 1, 1, 1, 1, 0, 2, 0, 2, 1, 0, 0, 0, 3, 1, 3, 1, 2, 1, 0, 0,\n",
       "       0, 2, 1, 3, 1, 2, 1, 0, 0, 1, 1, 2, 0, 1, 2, 1, 0, 2, 2, 2, 2, 2,\n",
       "       0, 0, 2, 2, 1, 0, 0, 2, 3, 3, 0, 2, 0, 2, 2, 0, 0, 1, 2, 0, 1, 0,\n",
       "       2, 2, 0, 0, 3, 2, 0, 2, 0, 1, 1, 0, 1, 1, 1, 1, 0, 0, 1, 2, 1, 0,\n",
       "       0, 3, 0, 0, 2, 0, 0, 1, 0, 1, 2, 0, 1, 2, 1, 0, 1, 1, 1, 1, 2, 2,\n",
       "       2, 1, 0, 0, 2, 2, 0, 3, 2, 2, 0, 2, 2, 0, 2, 1, 0, 2, 2, 1, 3, 2,\n",
       "       0, 0, 2, 0, 2, 0, 0, 0, 0, 1, 0, 0, 2, 2, 2, 0, 0, 2, 0, 0, 0, 0,\n",
       "       2, 0, 0, 0, 2, 0, 0, 0, 2, 0, 0, 2, 0, 3, 2, 0, 2, 1, 2, 0, 2, 0,\n",
       "       0, 0, 1, 0, 1, 2, 1, 1, 0, 0, 2, 0, 2, 1, 0, 0, 2, 0, 0, 2, 2, 0,\n",
       "       0, 0, 0, 2, 2, 1, 0, 1, 0, 1, 1, 0, 2, 1, 0, 2, 2, 2, 0, 0, 2, 1,\n",
       "       2, 2, 2, 2, 0, 2, 2, 1, 0, 0, 2, 1, 3, 1, 1, 0, 0, 0, 0, 0, 2, 1,\n",
       "       2, 0, 0, 0, 1, 2, 1, 0, 2, 2, 3, 1, 2, 1, 0, 1, 0, 0, 1, 1, 1, 0,\n",
       "       0, 2, 1, 0, 2, 2, 0, 3, 1, 1, 0, 1, 1, 0, 3, 2, 0, 2, 3, 0, 2, 1,\n",
       "       0, 0, 2, 2, 0, 0, 2, 0, 2, 1], dtype=object)"
      ]
     },
     "execution_count": 45,
     "metadata": {},
     "output_type": "execute_result"
    }
   ],
   "source": [
    "# Depois do LabelEncoder\n",
    "previsores[:,0]"
   ]
  },
  {
   "cell_type": "code",
   "execution_count": 46,
   "metadata": {},
   "outputs": [],
   "source": [
    "# Divisão da base de dados entre treino e teste\n",
    "X_train, X_test, y_train, y_test = train_test_split(previsores, classe, test_size=0.3, random_state=1)"
   ]
  },
  {
   "cell_type": "code",
   "execution_count": 55,
   "metadata": {},
   "outputs": [
    {
     "name": "stdout",
     "output_type": "stream",
     "text": [
      "SVC()\n"
     ]
    }
   ],
   "source": [
    "# Divião da base de dados, treinamento, obtensão das previsões e da tava de acerto\n",
    "svm = SVC()\n",
    "svm.fit(X_train, y_train)"
   ]
  },
  {
   "cell_type": "code",
   "execution_count": 56,
   "metadata": {},
   "outputs": [
    {
     "data": {
      "text/plain": [
       "array(['good', 'bad', 'good', 'good', 'good', 'good', 'good', 'good',\n",
       "       'good', 'good', 'good', 'good', 'good', 'good', 'good', 'good',\n",
       "       'good', 'good', 'good', 'good', 'good', 'good', 'good', 'good',\n",
       "       'good', 'good', 'good', 'good', 'good', 'bad', 'good', 'good',\n",
       "       'bad', 'good', 'good', 'bad', 'good', 'good', 'good', 'good',\n",
       "       'good', 'good', 'good', 'good', 'good', 'good', 'good', 'good',\n",
       "       'good', 'good', 'good', 'good', 'good', 'good', 'good', 'good',\n",
       "       'good', 'good', 'good', 'good', 'good', 'good', 'bad', 'good',\n",
       "       'good', 'good', 'good', 'good', 'good', 'good', 'good', 'good',\n",
       "       'good', 'good', 'good', 'good', 'good', 'good', 'good', 'good',\n",
       "       'good', 'good', 'good', 'good', 'good', 'good', 'good', 'good',\n",
       "       'good', 'good', 'good', 'good', 'good', 'good', 'good', 'good',\n",
       "       'good', 'good', 'good', 'good', 'good', 'good', 'good', 'good',\n",
       "       'good', 'good', 'good', 'good', 'bad', 'good', 'good', 'good',\n",
       "       'good', 'good', 'good', 'good', 'good', 'good', 'good', 'good',\n",
       "       'good', 'good', 'good', 'good', 'good', 'good', 'good', 'good',\n",
       "       'good', 'good', 'good', 'good', 'good', 'good', 'good', 'good',\n",
       "       'good', 'good', 'good', 'good', 'good', 'good', 'good', 'good',\n",
       "       'good', 'good', 'good', 'good', 'good', 'good', 'good', 'good',\n",
       "       'good', 'good', 'good', 'good', 'good', 'good', 'good', 'good',\n",
       "       'good', 'good', 'good', 'good', 'bad', 'good', 'good', 'good',\n",
       "       'good', 'good', 'good', 'good', 'good', 'good', 'good', 'good',\n",
       "       'good', 'good', 'good', 'good', 'good', 'good', 'good', 'good',\n",
       "       'good', 'good', 'good', 'good', 'good', 'good', 'good', 'good',\n",
       "       'good', 'good', 'good', 'good', 'good', 'good', 'good', 'good',\n",
       "       'good', 'good', 'good', 'good', 'good', 'good', 'good', 'good',\n",
       "       'good', 'good', 'good', 'good', 'good', 'good', 'good', 'good',\n",
       "       'good', 'good', 'good', 'good', 'good', 'good', 'good', 'good',\n",
       "       'good', 'good', 'good', 'good', 'good', 'good', 'good', 'good',\n",
       "       'good', 'good', 'good', 'good', 'good', 'good', 'good', 'good',\n",
       "       'good', 'good', 'good', 'good', 'good', 'good', 'good', 'good',\n",
       "       'good', 'good', 'good', 'good', 'good', 'good', 'good', 'good',\n",
       "       'good', 'good', 'good', 'good', 'good', 'good', 'good', 'good',\n",
       "       'good', 'good', 'good', 'good', 'good', 'good', 'good', 'good',\n",
       "       'good', 'good', 'good', 'good', 'good', 'good', 'good', 'good',\n",
       "       'good', 'good', 'good', 'good', 'good', 'good', 'good', 'good',\n",
       "       'good', 'good', 'good', 'good', 'good', 'good', 'good', 'good',\n",
       "       'good', 'good', 'good', 'good'], dtype=object)"
      ]
     },
     "execution_count": 56,
     "metadata": {},
     "output_type": "execute_result"
    }
   ],
   "source": [
    "# previsões\n",
    "previsoes = svm.predict(X_test)\n",
    "previsoes"
   ]
  },
  {
   "cell_type": "code",
   "execution_count": 59,
   "metadata": {},
   "outputs": [
    {
     "data": {
      "text/plain": [
       "'71.67%'"
      ]
     },
     "execution_count": 59,
     "metadata": {},
     "output_type": "execute_result"
    }
   ],
   "source": [
    "# Calculo da acurácia de acerto\n",
    "taxa_acerto = accuracy_score(y_test, previsoes)\n",
    "\n",
    "f\"{taxa_acerto*100:.2f}%\""
   ]
  },
  {
   "cell_type": "code",
   "execution_count": 50,
   "metadata": {},
   "outputs": [
    {
     "data": {
      "text/plain": [
       "array([0.09916923, 0.08070582, 0.07367018, 0.06156996, 0.08142067,\n",
       "       0.05197424, 0.04976732, 0.05557802, 0.04302117, 0.02914505,\n",
       "       0.04976659, 0.04446758, 0.06884836, 0.04352231, 0.03409851,\n",
       "       0.03225349, 0.03963652, 0.02288836, 0.03154409, 0.00695254])"
      ]
     },
     "execution_count": 50,
     "metadata": {},
     "output_type": "execute_result"
    }
   ],
   "source": [
    "# Ultilização do algoritmo ExtraTreeClassifier para extrair as caracteristicas mais importantes\n",
    "forest = ExtraTreesClassifier()\n",
    "forest.fit(X_train, y_train)\n",
    "importancias = forest.feature_importances_\n",
    "\n",
    "importancias"
   ]
  },
  {
   "cell_type": "code",
   "execution_count": 51,
   "metadata": {},
   "outputs": [],
   "source": [
    "# Criação da nova base de dados utilizandoi somente os atributos mais importantes\n",
    "X_train2 = X_train[:,[0, 1, 2, 3]]\n",
    "X_test2 = X_test[:,[0, 1, 2, 3]]"
   ]
  },
  {
   "cell_type": "code",
   "execution_count": 60,
   "metadata": {},
   "outputs": [
    {
     "data": {
      "text/plain": [
       "'72.33%'"
      ]
     },
     "execution_count": 60,
     "metadata": {},
     "output_type": "execute_result"
    }
   ],
   "source": [
    "# Criação de um novo modelo de dados reduzida, treinamento e obtensão das previsões e taxa de acerto\n",
    "svm2 = SVC()\n",
    "svm2.fit(X_train2, y_train)\n",
    "previsoes2 = svm2.predict(X_test2)\n",
    "taxa_acerto = accuracy_score(y_test, previsoes2)\n",
    "f\"{taxa_acerto*100:.2f}%\""
   ]
  }
 ],
 "metadata": {
  "kernelspec": {
   "display_name": "MeuLab",
   "language": "python",
   "name": "python3"
  },
  "language_info": {
   "codemirror_mode": {
    "name": "ipython",
    "version": 3
   },
   "file_extension": ".py",
   "mimetype": "text/x-python",
   "name": "python",
   "nbconvert_exporter": "python",
   "pygments_lexer": "ipython3",
   "version": "3.10.6"
  },
  "orig_nbformat": 4
 },
 "nbformat": 4,
 "nbformat_minor": 2
}
