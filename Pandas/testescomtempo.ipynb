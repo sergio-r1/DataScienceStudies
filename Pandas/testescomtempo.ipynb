{
 "cells": [
  {
   "cell_type": "code",
   "execution_count": 7,
   "metadata": {},
   "outputs": [],
   "source": [
    "import pandas as pd\n",
    "import numpy as np"
   ]
  },
  {
   "cell_type": "code",
   "execution_count": 2,
   "metadata": {},
   "outputs": [
    {
     "data": {
      "text/html": [
       "<div>\n",
       "<style scoped>\n",
       "    .dataframe tbody tr th:only-of-type {\n",
       "        vertical-align: middle;\n",
       "    }\n",
       "\n",
       "    .dataframe tbody tr th {\n",
       "        vertical-align: top;\n",
       "    }\n",
       "\n",
       "    .dataframe thead th {\n",
       "        text-align: right;\n",
       "    }\n",
       "</style>\n",
       "<table border=\"1\" class=\"dataframe\">\n",
       "  <thead>\n",
       "    <tr style=\"text-align: right;\">\n",
       "      <th></th>\n",
       "      <th>Tempo</th>\n",
       "      <th>Temperatura</th>\n",
       "      <th>Ano</th>\n",
       "      <th>Trimestre</th>\n",
       "      <th>Mês</th>\n",
       "      <th>Dia</th>\n",
       "      <th>Ordem</th>\n",
       "    </tr>\n",
       "  </thead>\n",
       "  <tbody>\n",
       "    <tr>\n",
       "      <th>0</th>\n",
       "      <td>2021-06-01 00:01:31</td>\n",
       "      <td>-84.2</td>\n",
       "      <td>2021</td>\n",
       "      <td>2</td>\n",
       "      <td>6</td>\n",
       "      <td>1</td>\n",
       "      <td>1</td>\n",
       "    </tr>\n",
       "    <tr>\n",
       "      <th>1</th>\n",
       "      <td>2021-06-01 00:05:33</td>\n",
       "      <td>-85.1</td>\n",
       "      <td>2021</td>\n",
       "      <td>2</td>\n",
       "      <td>6</td>\n",
       "      <td>1</td>\n",
       "      <td>1</td>\n",
       "    </tr>\n",
       "    <tr>\n",
       "      <th>2</th>\n",
       "      <td>2021-06-01 00:09:38</td>\n",
       "      <td>-85.1</td>\n",
       "      <td>2021</td>\n",
       "      <td>2</td>\n",
       "      <td>6</td>\n",
       "      <td>1</td>\n",
       "      <td>1</td>\n",
       "    </tr>\n",
       "    <tr>\n",
       "      <th>3</th>\n",
       "      <td>2021-06-01 00:13:43</td>\n",
       "      <td>-85.1</td>\n",
       "      <td>2021</td>\n",
       "      <td>2</td>\n",
       "      <td>6</td>\n",
       "      <td>1</td>\n",
       "      <td>1</td>\n",
       "    </tr>\n",
       "    <tr>\n",
       "      <th>4</th>\n",
       "      <td>2021-06-01 00:17:48</td>\n",
       "      <td>-90.0</td>\n",
       "      <td>2021</td>\n",
       "      <td>2</td>\n",
       "      <td>6</td>\n",
       "      <td>1</td>\n",
       "      <td>1</td>\n",
       "    </tr>\n",
       "  </tbody>\n",
       "</table>\n",
       "</div>"
      ],
      "text/plain": [
       "                 Tempo  Temperatura   Ano  Trimestre  Mês  Dia  Ordem\n",
       "0  2021-06-01 00:01:31        -84.2  2021          2    6    1      1\n",
       "1  2021-06-01 00:05:33        -85.1  2021          2    6    1      1\n",
       "2  2021-06-01 00:09:38        -85.1  2021          2    6    1      1\n",
       "3  2021-06-01 00:13:43        -85.1  2021          2    6    1      1\n",
       "4  2021-06-01 00:17:48        -90.0  2021          2    6    1      1"
      ]
     },
     "execution_count": 2,
     "metadata": {},
     "output_type": "execute_result"
    }
   ],
   "source": [
    "arquivo = pd.read_csv('dados/ultra(1).csv')\n",
    "\n",
    "pd.\n",
    "\n",
    "arquivo.head()"
   ]
  },
  {
   "cell_type": "code",
   "execution_count": 5,
   "metadata": {},
   "outputs": [
    {
     "data": {
      "text/plain": [
       "0        2021-06-01 00:01:31\n",
       "1        2021-06-01 00:05:33\n",
       "2        2021-06-01 00:09:38\n",
       "3        2021-06-01 00:13:43\n",
       "4        2021-06-01 00:17:48\n",
       "                ...         \n",
       "98813    2021-11-26 15:26:12\n",
       "98814    2021-11-26 15:27:12\n",
       "98815    2021-11-26 15:32:12\n",
       "98816    2021-11-26 15:33:12\n",
       "98817    2021-11-26 15:34:12\n",
       "Name: Tempo, Length: 98818, dtype: object"
      ]
     },
     "execution_count": 5,
     "metadata": {},
     "output_type": "execute_result"
    }
   ],
   "source": [
    "tempo = arquivo['Tempo']\n",
    "\n",
    "tempo"
   ]
  },
  {
   "cell_type": "code",
   "execution_count": 9,
   "metadata": {},
   "outputs": [],
   "source": [
    "rng2 = pd.date_range(\"2021-06-01\", \"2021-11-01\")"
   ]
  },
  {
   "cell_type": "code",
   "execution_count": 10,
   "metadata": {},
   "outputs": [],
   "source": [
    "ts2 = pd.Series(np.random.randn(len(rng2)), index=rng2)"
   ]
  },
  {
   "cell_type": "code",
   "execution_count": 16,
   "metadata": {},
   "outputs": [],
   "source": [
    "vartest = ts2.truncate(before=\"2021-07-01\", after=\"2021-09-08\")"
   ]
  },
  {
   "cell_type": "code",
   "execution_count": 17,
   "metadata": {},
   "outputs": [
    {
     "data": {
      "text/plain": [
       "70"
      ]
     },
     "execution_count": 17,
     "metadata": {},
     "output_type": "execute_result"
    }
   ],
   "source": [
    "vartest.shape[0]"
   ]
  }
 ],
 "metadata": {
  "kernelspec": {
   "display_name": "AmbienteTestes",
   "language": "python",
   "name": "python3"
  },
  "language_info": {
   "codemirror_mode": {
    "name": "ipython",
    "version": 3
   },
   "file_extension": ".py",
   "mimetype": "text/x-python",
   "name": "python",
   "nbconvert_exporter": "python",
   "pygments_lexer": "ipython3",
   "version": "3.10.6"
  },
  "orig_nbformat": 4
 },
 "nbformat": 4,
 "nbformat_minor": 2
}
